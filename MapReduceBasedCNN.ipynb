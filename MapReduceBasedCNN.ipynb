{
 "cells": [
  {
   "cell_type": "markdown",
   "metadata": {
    "application/vnd.databricks.v1+cell": {
     "cellMetadata": {
      "byteLimit": 2048000,
      "rowLimit": 10000
     },
     "inputWidgets": {},
     "nuid": "82ceab3a-4fb2-44bd-aff0-1ea337bf5053",
     "showTitle": false,
     "title": ""
    }
   },
   "source": [
    "# MapReduce-based CNN for Handwritten Digit Recognition"
   ]
  },
  {
   "cell_type": "code",
   "execution_count": 0,
   "metadata": {
    "application/vnd.databricks.v1+cell": {
     "cellMetadata": {
      "byteLimit": 2048000,
      "rowLimit": 10000
     },
     "inputWidgets": {},
     "nuid": "2fb789ff-be2b-4fc1-a3a6-2f84ac54f515",
     "showTitle": false,
     "title": ""
    }
   },
   "outputs": [
    {
     "output_type": "stream",
     "name": "stdout",
     "output_type": "stream",
     "text": [
      "Python interpreter will be restarted.\nCollecting keras\n  Downloading keras-2.13.1-py3-none-any.whl (1.7 MB)\nInstalling collected packages: keras\nSuccessfully installed keras-2.13.1\nPython interpreter will be restarted.\n"
     ]
    }
   ],
   "source": [
    "pip install keras"
   ]
  },
  {
   "cell_type": "code",
   "execution_count": 0,
   "metadata": {
    "application/vnd.databricks.v1+cell": {
     "cellMetadata": {
      "byteLimit": 2048000,
      "rowLimit": 10000
     },
     "inputWidgets": {},
     "nuid": "4309a360-b795-47c9-a385-a40c6dd3308f",
     "showTitle": false,
     "title": ""
    }
   },
   "outputs": [
    {
     "output_type": "stream",
     "name": "stdout",
     "output_type": "stream",
     "text": [
      "Python interpreter will be restarted.\nCollecting tensorflow\n  Downloading tensorflow-2.13.0-cp39-cp39-manylinux_2_17_x86_64.manylinux2014_x86_64.whl (524.1 MB)\nCollecting termcolor>=1.1.0\n  Downloading termcolor-2.3.0-py3-none-any.whl (6.9 kB)\nRequirement already satisfied: typing-extensions<4.6.0,>=3.6.6 in /databricks/python3/lib/python3.9/site-packages (from tensorflow) (4.1.1)\nRequirement already satisfied: setuptools in /databricks/python3/lib/python3.9/site-packages (from tensorflow) (61.2.0)\nCollecting flatbuffers>=23.1.21\n  Downloading flatbuffers-23.5.26-py2.py3-none-any.whl (26 kB)\nRequirement already satisfied: packaging in /databricks/python3/lib/python3.9/site-packages (from tensorflow) (21.3)\nCollecting astunparse>=1.6.0\n  Downloading astunparse-1.6.3-py2.py3-none-any.whl (12 kB)\nCollecting grpcio<2.0,>=1.24.3\n  Downloading grpcio-1.56.2-cp39-cp39-manylinux_2_17_x86_64.manylinux2014_x86_64.whl (5.2 MB)\nCollecting google-pasta>=0.1.1\n  Downloading google_pasta-0.2.0-py3-none-any.whl (57 kB)\nCollecting protobuf!=4.21.0,!=4.21.1,!=4.21.2,!=4.21.3,!=4.21.4,!=4.21.5,<5.0.0dev,>=3.20.3\n  Downloading protobuf-4.23.4-cp37-abi3-manylinux2014_x86_64.whl (304 kB)\nCollecting tensorflow-estimator<2.14,>=2.13.0\n  Downloading tensorflow_estimator-2.13.0-py2.py3-none-any.whl (440 kB)\nCollecting opt-einsum>=2.3.2\n  Downloading opt_einsum-3.3.0-py3-none-any.whl (65 kB)\nRequirement already satisfied: six>=1.12.0 in /databricks/python3/lib/python3.9/site-packages (from tensorflow) (1.16.0)\nCollecting tensorboard<2.14,>=2.13\n  Downloading tensorboard-2.13.0-py3-none-any.whl (5.6 MB)\nCollecting tensorflow-io-gcs-filesystem>=0.23.1\n  Downloading tensorflow_io_gcs_filesystem-0.32.0-cp39-cp39-manylinux_2_12_x86_64.manylinux2010_x86_64.whl (2.4 MB)\nCollecting libclang>=13.0.0\n  Downloading libclang-16.0.6-py2.py3-none-manylinux2010_x86_64.whl (22.9 MB)\nCollecting absl-py>=1.0.0\n  Downloading absl_py-1.4.0-py3-none-any.whl (126 kB)\nCollecting wrapt>=1.11.0\n  Downloading wrapt-1.15.0-cp39-cp39-manylinux_2_5_x86_64.manylinux1_x86_64.manylinux_2_17_x86_64.manylinux2014_x86_64.whl (78 kB)\nRequirement already satisfied: keras<2.14,>=2.13.1 in /local_disk0/.ephemeral_nfs/envs/pythonEnv-04439d8f-9ee8-4e14-a48d-7a89cc502673/lib/python3.9/site-packages (from tensorflow) (2.13.1)\nCollecting gast<=0.4.0,>=0.2.1\n  Downloading gast-0.4.0-py3-none-any.whl (9.8 kB)\nCollecting numpy<=1.24.3,>=1.22\n  Downloading numpy-1.24.3-cp39-cp39-manylinux_2_17_x86_64.manylinux2014_x86_64.whl (17.3 MB)\nCollecting h5py>=2.9.0\n  Downloading h5py-3.9.0-cp39-cp39-manylinux_2_17_x86_64.manylinux2014_x86_64.whl (4.8 MB)\nRequirement already satisfied: wheel<1.0,>=0.23.0 in /databricks/python3/lib/python3.9/site-packages (from astunparse>=1.6.0->tensorflow) (0.37.0)\nCollecting google-auth-oauthlib<1.1,>=0.5\n  Downloading google_auth_oauthlib-1.0.0-py2.py3-none-any.whl (18 kB)\nCollecting markdown>=2.6.8\n  Downloading Markdown-3.4.4-py3-none-any.whl (94 kB)\nCollecting tensorboard-data-server<0.8.0,>=0.7.0\n  Downloading tensorboard_data_server-0.7.1-py3-none-manylinux2014_x86_64.whl (6.6 MB)\nCollecting werkzeug>=1.0.1\n  Downloading Werkzeug-2.3.6-py3-none-any.whl (242 kB)\nRequirement already satisfied: requests<3,>=2.21.0 in /databricks/python3/lib/python3.9/site-packages (from tensorboard<2.14,>=2.13->tensorflow) (2.27.1)\nCollecting google-auth<3,>=1.6.3\n  Downloading google_auth-2.22.0-py2.py3-none-any.whl (181 kB)\nCollecting cachetools<6.0,>=2.0.0\n  Downloading cachetools-5.3.1-py3-none-any.whl (9.3 kB)\nRequirement already satisfied: urllib3<2.0 in /databricks/python3/lib/python3.9/site-packages (from google-auth<3,>=1.6.3->tensorboard<2.14,>=2.13->tensorflow) (1.26.9)\nCollecting pyasn1-modules>=0.2.1\n  Downloading pyasn1_modules-0.3.0-py2.py3-none-any.whl (181 kB)\nCollecting rsa<5,>=3.1.4\n  Downloading rsa-4.9-py3-none-any.whl (34 kB)\nCollecting requests-oauthlib>=0.7.0\n  Downloading requests_oauthlib-1.3.1-py2.py3-none-any.whl (23 kB)\nCollecting importlib-metadata>=4.4\n  Downloading importlib_metadata-6.8.0-py3-none-any.whl (22 kB)\nCollecting zipp>=0.5\n  Downloading zipp-3.16.2-py3-none-any.whl (7.2 kB)\nCollecting pyasn1<0.6.0,>=0.4.6\n  Downloading pyasn1-0.5.0-py2.py3-none-any.whl (83 kB)\nRequirement already satisfied: idna<4,>=2.5 in /databricks/python3/lib/python3.9/site-packages (from requests<3,>=2.21.0->tensorboard<2.14,>=2.13->tensorflow) (3.3)\nRequirement already satisfied: charset-normalizer~=2.0.0 in /databricks/python3/lib/python3.9/site-packages (from requests<3,>=2.21.0->tensorboard<2.14,>=2.13->tensorflow) (2.0.4)\nRequirement already satisfied: certifi>=2017.4.17 in /databricks/python3/lib/python3.9/site-packages (from requests<3,>=2.21.0->tensorboard<2.14,>=2.13->tensorflow) (2021.10.8)\nCollecting oauthlib>=3.0.0\n  Downloading oauthlib-3.2.2-py3-none-any.whl (151 kB)\nCollecting MarkupSafe>=2.1.1\n  Downloading MarkupSafe-2.1.3-cp39-cp39-manylinux_2_17_x86_64.manylinux2014_x86_64.whl (25 kB)\nRequirement already satisfied: pyparsing!=3.0.5,>=2.0.2 in /databricks/python3/lib/python3.9/site-packages (from packaging->tensorflow) (3.0.4)\nInstalling collected packages: pyasn1, zipp, rsa, pyasn1-modules, oauthlib, cachetools, requests-oauthlib, MarkupSafe, importlib-metadata, google-auth, werkzeug, tensorboard-data-server, protobuf, numpy, markdown, grpcio, google-auth-oauthlib, absl-py, wrapt, termcolor, tensorflow-io-gcs-filesystem, tensorflow-estimator, tensorboard, opt-einsum, libclang, h5py, google-pasta, gast, flatbuffers, astunparse, tensorflow\n  Attempting uninstall: MarkupSafe\n    Found existing installation: MarkupSafe 2.0.1\n    Not uninstalling markupsafe at /databricks/python3/lib/python3.9/site-packages, outside environment /local_disk0/.ephemeral_nfs/envs/pythonEnv-04439d8f-9ee8-4e14-a48d-7a89cc502673\n    Can't uninstall 'MarkupSafe'. No files were found to uninstall.\n  Attempting uninstall: protobuf\n    Found existing installation: protobuf 3.19.4\n    Not uninstalling protobuf at /databricks/python3/lib/python3.9/site-packages, outside environment /local_disk0/.ephemeral_nfs/envs/pythonEnv-04439d8f-9ee8-4e14-a48d-7a89cc502673\n    Can't uninstall 'protobuf'. No files were found to uninstall.\n  Attempting uninstall: numpy\n    Found existing installation: numpy 1.21.5\n    Not uninstalling numpy at /databricks/python3/lib/python3.9/site-packages, outside environment /local_disk0/.ephemeral_nfs/envs/pythonEnv-04439d8f-9ee8-4e14-a48d-7a89cc502673\n    Can't uninstall 'numpy'. No files were found to uninstall.\nERROR: pip's dependency resolver does not currently take into account all the packages that are installed. This behaviour is the source of the following dependency conflicts.\nscipy 1.7.3 requires numpy<1.23.0,>=1.16.5, but you have numpy 1.24.3 which is incompatible.\nSuccessfully installed MarkupSafe-2.1.3 absl-py-1.4.0 astunparse-1.6.3 cachetools-5.3.1 flatbuffers-23.5.26 gast-0.4.0 google-auth-2.22.0 google-auth-oauthlib-1.0.0 google-pasta-0.2.0 grpcio-1.56.2 h5py-3.9.0 importlib-metadata-6.8.0 libclang-16.0.6 markdown-3.4.4 numpy-1.24.3 oauthlib-3.2.2 opt-einsum-3.3.0 protobuf-4.23.4 pyasn1-0.5.0 pyasn1-modules-0.3.0 requests-oauthlib-1.3.1 rsa-4.9 tensorboard-2.13.0 tensorboard-data-server-0.7.1 tensorflow-2.13.0 tensorflow-estimator-2.13.0 tensorflow-io-gcs-filesystem-0.32.0 termcolor-2.3.0 werkzeug-2.3.6 wrapt-1.15.0 zipp-3.16.2\nPython interpreter will be restarted.\n"
     ]
    }
   ],
   "source": [
    "pip install tensorflow"
   ]
  },
  {
   "cell_type": "markdown",
   "metadata": {
    "application/vnd.databricks.v1+cell": {
     "cellMetadata": {
      "byteLimit": 2048000,
      "rowLimit": 10000
     },
     "inputWidgets": {},
     "nuid": "8abd123f-9273-4cb9-b692-00cb930af039",
     "showTitle": false,
     "title": ""
    }
   },
   "source": [
    "# Importing required libraries"
   ]
  },
  {
   "cell_type": "code",
   "execution_count": 0,
   "metadata": {
    "application/vnd.databricks.v1+cell": {
     "cellMetadata": {
      "byteLimit": 2048000,
      "rowLimit": 10000
     },
     "inputWidgets": {},
     "nuid": "0c51bdc9-c712-487f-a993-66e835845ea3",
     "showTitle": false,
     "title": ""
    }
   },
   "outputs": [],
   "source": [
    "import random\n",
    "import matplotlib.pyplot as pyplt\n",
    "import numpy as np\n",
    "from math import ceil"
   ]
  },
  {
   "cell_type": "markdown",
   "metadata": {
    "application/vnd.databricks.v1+cell": {
     "cellMetadata": {
      "byteLimit": 2048000,
      "rowLimit": 10000
     },
     "inputWidgets": {},
     "nuid": "11b99af5-d713-45ce-9540-8d45f58fba74",
     "showTitle": false,
     "title": ""
    }
   },
   "source": [
    "# Load MNIST Dataset"
   ]
  },
  {
   "cell_type": "code",
   "execution_count": 0,
   "metadata": {
    "application/vnd.databricks.v1+cell": {
     "cellMetadata": {
      "byteLimit": 2048000,
      "rowLimit": 10000
     },
     "inputWidgets": {},
     "nuid": "90e7ae8e-57e3-4778-aa19-428823ae9b27",
     "showTitle": false,
     "title": ""
    }
   },
   "outputs": [
    {
     "output_type": "stream",
     "name": "stderr",
     "output_type": "stream",
     "text": [
      "/databricks/python/lib/python3.9/site-packages/scipy/__init__.py:146: UserWarning: A NumPy version >=1.16.5 and <1.23.0 is required for this version of SciPy (detected version 1.24.3\n  warnings.warn(f\"A NumPy version >={np_minversion} and <{np_maxversion}\"\n"
     ]
    },
    {
     "output_type": "stream",
     "name": "stdout",
     "output_type": "stream",
     "text": [
      "Downloading data from https://storage.googleapis.com/tensorflow/tf-keras-datasets/mnist.npz\n\r    8192/11490434 [..............................] - ETA: 0s\b\b\b\b\b\b\b\b\b\b\b\b\b\b\b\b\b\b\b\b\b\b\b\b\b\b\b\b\b\b\b\b\b\b\b\b\b\b\b\b\b\b\b\b\b\b\b\b\b\b\b\b\b\b\b\b\b\b\b\b\r  344064/11490434 [..............................] - ETA: 1s\b\b\b\b\b\b\b\b\b\b\b\b\b\b\b\b\b\b\b\b\b\b\b\b\b\b\b\b\b\b\b\b\b\b\b\b\b\b\b\b\b\b\b\b\b\b\b\b\b\b\b\b\b\b\b\b\b\b\b\b\r 1097728/11490434 [=>............................] - ETA: 0s\b\b\b\b\b\b\b\b\b\b\b\b\b\b\b\b\b\b\b\b\b\b\b\b\b\b\b\b\b\b\b\b\b\b\b\b\b\b\b\b\b\b\b\b\b\b\b\b\b\b\b\b\b\b\b\b\b\b\b\b\r 1892352/11490434 [===>..........................] - ETA: 0s\b\b\b\b\b\b\b\b\b\b\b\b\b\b\b\b\b\b\b\b\b\b\b\b\b\b\b\b\b\b\b\b\b\b\b\b\b\b\b\b\b\b\b\b\b\b\b\b\b\b\b\b\b\b\b\b\b\b\b\b\r 2703360/11490434 [======>.......................] - ETA: 0s\b\b\b\b\b\b\b\b\b\b\b\b\b\b\b\b\b\b\b\b\b\b\b\b\b\b\b\b\b\b\b\b\b\b\b\b\b\b\b\b\b\b\b\b\b\b\b\b\b\b\b\b\b\b\b\b\b\b\b\b\r 3538944/11490434 [========>.....................] - ETA: 0s\b\b\b\b\b\b\b\b\b\b\b\b\b\b\b\b\b\b\b\b\b\b\b\b\b\b\b\b\b\b\b\b\b\b\b\b\b\b\b\b\b\b\b\b\b\b\b\b\b\b\b\b\b\b\b\b\b\b\b\b\r 4407296/11490434 [==========>...................] - ETA: 0s\b\b\b\b\b\b\b\b\b\b\b\b\b\b\b\b\b\b\b\b\b\b\b\b\b\b\b\b\b\b\b\b\b\b\b\b\b\b\b\b\b\b\b\b\b\b\b\b\b\b\b\b\b\b\b\b\b\b\b\b\r 5275648/11490434 [============>.................] - ETA: 0s\b\b\b\b\b\b\b\b\b\b\b\b\b\b\b\b\b\b\b\b\b\b\b\b\b\b\b\b\b\b\b\b\b\b\b\b\b\b\b\b\b\b\b\b\b\b\b\b\b\b\b\b\b\b\b\b\b\b\b\b\r 6176768/11490434 [===============>..............] - ETA: 0s\b\b\b\b\b\b\b\b\b\b\b\b\b\b\b\b\b\b\b\b\b\b\b\b\b\b\b\b\b\b\b\b\b\b\b\b\b\b\b\b\b\b\b\b\b\b\b\b\b\b\b\b\b\b\b\b\b\b\b\b\r 7110656/11490434 [=================>............] - ETA: 0s\b\b\b\b\b\b\b\b\b\b\b\b\b\b\b\b\b\b\b\b\b\b\b\b\b\b\b\b\b\b\b\b\b\b\b\b\b\b\b\b\b\b\b\b\b\b\b\b\b\b\b\b\b\b\b\b\b\b\b\b\r 8060928/11490434 [====================>.........] - ETA: 0s\b\b\b\b\b\b\b\b\b\b\b\b\b\b\b\b\b\b\b\b\b\b\b\b\b\b\b\b\b\b\b\b\b\b\b\b\b\b\b\b\b\b\b\b\b\b\b\b\b\b\b\b\b\b\b\b\b\b\b\b\r 9076736/11490434 [======================>.......] - ETA: 0s\b\b\b\b\b\b\b\b\b\b\b\b\b\b\b\b\b\b\b\b\b\b\b\b\b\b\b\b\b\b\b\b\b\b\b\b\b\b\b\b\b\b\b\b\b\b\b\b\b\b\b\b\b\b\b\b\b\b\b\b\r10125312/11490434 [=========================>....] - ETA: 0s\b\b\b\b\b\b\b\b\b\b\b\b\b\b\b\b\b\b\b\b\b\b\b\b\b\b\b\b\b\b\b\b\b\b\b\b\b\b\b\b\b\b\b\b\b\b\b\b\b\b\b\b\b\b\b\b\b\b\b\b\r11288576/11490434 [============================>.] - ETA: 0s\b\b\b\b\b\b\b\b\b\b\b\b\b\b\b\b\b\b\b\b\b\b\b\b\b\b\b\b\b\b\b\b\b\b\b\b\b\b\b\b\b\b\b\b\b\b\b\b\b\b\b\b\b\b\b\b\b\b\b\b\r11490434/11490434 [==============================] - 1s 0us/step\n"
     ]
    }
   ],
   "source": [
    "from keras import utils\n",
    "from keras.datasets import mnist\n",
    "\n",
    "# load the MNIST dataset\n",
    "(train_images, train_labls), (test_images, test_labls) = mnist.load_data()\n",
    "\n",
    "# reshape the training data of 60000 samples into 28x28\n",
    "train_images = train_images.reshape(train_images.shape[0], 1, 28*28)\n",
    "# Convert to float32 and normalize\n",
    "train_images = train_images.astype('float32')\n",
    "train_images /= 255\n",
    "# one-hot encoding of truth label to an array of shape (1,9)\n",
    "train_labls = utils.to_categorical(train_labls)\n",
    "\n",
    "# similar processing for 10000 samples of test data\n",
    "test_images = test_images.reshape(test_images.shape[0], 1, 28*28)\n",
    "test_images = test_images.astype('float32')\n",
    "test_images /= 255\n",
    "test_labls = utils.to_categorical(test_labls)"
   ]
  },
  {
   "cell_type": "code",
   "execution_count": 0,
   "metadata": {
    "application/vnd.databricks.v1+cell": {
     "cellMetadata": {
      "byteLimit": 2048000,
      "rowLimit": 10000
     },
     "inputWidgets": {},
     "nuid": "5d07ea8b-9075-4425-a79a-32ea45b1297e",
     "showTitle": false,
     "title": ""
    }
   },
   "outputs": [],
   "source": [
    "# Convert to RDD\n",
    "train_images_RDD = sc.parallelize(train_images.reshape(len(train_images),784).tolist(), 1)\n",
    "train_labels_RDD = sc.parallelize(train_labls.tolist(), 1)\n",
    "test_images_RDD = sc.parallelize(test_images.reshape(len(test_images),784).tolist(), 1)\n",
    "test_labels_RDD = sc.parallelize(test_labls.tolist(), 1)"
   ]
  },
  {
   "cell_type": "code",
   "execution_count": 0,
   "metadata": {
    "application/vnd.databricks.v1+cell": {
     "cellMetadata": {
      "byteLimit": 2048000,
      "rowLimit": 10000
     },
     "inputWidgets": {},
     "nuid": "985604b9-4de9-4f13-ab46-472b8244fde4",
     "showTitle": false,
     "title": ""
    }
   },
   "outputs": [],
   "source": [
    "# Assign indices to labels to perform join\n",
    "img_train = train_images_RDD.map(lambda e : np.array(e).reshape(28, 28)).zipWithIndex().map(lambda e: (str(e[1]), e[0]))\n",
    "\n",
    "label_train = train_labels_RDD.map(lambda e : np.array(e).reshape(1, 10)).zipWithIndex().map(lambda e: (str(e[1]), e[0]))\n",
    "\n",
    "img_test = test_images_RDD.map(lambda e : np.array(e).reshape(28, 28)).zipWithIndex().map(lambda e: (str(e[1]), e[0]))\n",
    "\n",
    "label_test = test_labels_RDD.map(lambda e : np.array(e).reshape(1, 10)).zipWithIndex().map(lambda e: (str(e[1]), e[0]))"
   ]
  },
  {
   "cell_type": "code",
   "execution_count": 0,
   "metadata": {
    "application/vnd.databricks.v1+cell": {
     "cellMetadata": {
      "byteLimit": 2048000,
      "rowLimit": 10000
     },
     "inputWidgets": {},
     "nuid": "1f6b6dcc-ca0c-47d8-8a2b-ab4a64905d1f",
     "showTitle": false,
     "title": ""
    }
   },
   "outputs": [
    {
     "output_type": "stream",
     "name": "stdout",
     "output_type": "stream",
     "text": [
      "Training set count: 60000\nTesting set count: 10000\n"
     ]
    }
   ],
   "source": [
    "# Perform join to combine images with their encoded labels\n",
    "training_set_rdd = img_train.join(label_train).map(lambda e: e[1]).map(lambda e: (e[0], np.array([e[1][0]])))\n",
    "testing_set_rdd = img_test.join(label_test).map(lambda e: e[1]).map(lambda e: (e[0], np.array([e[1][0]])))\n",
    "\n",
    "training_set_rdd.cache()\n",
    "\n",
    "print(\"Training set count:\", training_set_rdd.count())\n",
    "print(\"Testing set count:\", testing_set_rdd.count())"
   ]
  },
  {
   "cell_type": "markdown",
   "metadata": {
    "application/vnd.databricks.v1+cell": {
     "cellMetadata": {
      "byteLimit": 2048000,
      "rowLimit": 10000
     },
     "inputWidgets": {},
     "nuid": "158d1e83-9998-466b-b568-77c8e0a29713",
     "showTitle": false,
     "title": ""
    }
   },
   "source": [
    "# Function Definitions"
   ]
  },
  {
   "cell_type": "markdown",
   "metadata": {
    "application/vnd.databricks.v1+cell": {
     "cellMetadata": {
      "byteLimit": 2048000,
      "rowLimit": 10000
     },
     "inputWidgets": {},
     "nuid": "fe370af0-5ac6-4931-a331-ba2e438effdd",
     "showTitle": false,
     "title": ""
    }
   },
   "source": [
    "## Convolutional Layer"
   ]
  },
  {
   "cell_type": "code",
   "execution_count": 0,
   "metadata": {
    "application/vnd.databricks.v1+cell": {
     "cellMetadata": {
      "byteLimit": 2048000,
      "rowLimit": 10000
     },
     "inputWidgets": {},
     "nuid": "3e08201f-b824-43f4-a643-010d84a0af02",
     "showTitle": false,
     "title": ""
    }
   },
   "outputs": [],
   "source": [
    "# Forward Pass\n",
    "def conv(img, fil, stride):\n",
    "    new_img = [[] for _ in range(fil.shape[0])] \n",
    "    # horizontal slide\n",
    "    for i in range(0, img.shape[0]-fil.shape[1]+1, stride):\n",
    "        # vertical slide\n",
    "        for j in range(0, img.shape[1]-fil.shape[2]+1, stride):\n",
    "            tmp = img[i:i+fil.shape[1],j:j+fil.shape[2]]\n",
    "            s = 0\n",
    "            for k in range(fil.shape[0]):\n",
    "                new_img[k].append(np.dot(tmp,fil[k]).sum())\n",
    "    colvolved_imgs = [np.array(img1).reshape(ceil((img.shape[0] - fil.shape[1] + 1)/stride),ceil((img.shape[0] - fil.shape[1] + 1)/stride)) for img1 in new_img]\n",
    "    return np.array(colvolved_imgs)\n",
    "\n",
    "# Backward propagation\n",
    "def inverse_conv(origImg, reluInv, gradMasks, filShape):\n",
    "    grad_fil = np.empty((filShape[0],filShape[1],filShape[2]))\n",
    "    sumT = 0\n",
    "    for k in range(filShape[0]):\n",
    "        for i in range(filShape[1]):\n",
    "            for j in range(filShape[2]):\n",
    "                grad_fil[k,i,j]= np.sum((gradMasks[k,:,:]*reluInv[k,:,:]) * origImg[i:i+reluInv.shape[1], j:j+reluInv.shape[2]])\n",
    "    return grad_fil"
   ]
  },
  {
   "cell_type": "markdown",
   "metadata": {
    "application/vnd.databricks.v1+cell": {
     "cellMetadata": {
      "byteLimit": 2048000,
      "rowLimit": 10000
     },
     "inputWidgets": {},
     "nuid": "79d05b25-16d1-4b11-91cf-16e52f9f43cd",
     "showTitle": false,
     "title": ""
    }
   },
   "source": [
    "## Activation Layer"
   ]
  },
  {
   "cell_type": "code",
   "execution_count": 0,
   "metadata": {
    "application/vnd.databricks.v1+cell": {
     "cellMetadata": {
      "byteLimit": 2048000,
      "rowLimit": 10000
     },
     "inputWidgets": {},
     "nuid": "38c4bff8-7aa6-4f28-8f16-5f5dbb799695",
     "showTitle": false,
     "title": ""
    }
   },
   "outputs": [],
   "source": [
    "# Forward Pass\n",
    "def reLu(imgPixels):\n",
    "    return np.maximum(0,imgPixels)\n",
    "\n",
    "\n",
    "# Backward propagation\n",
    "def inverse_relu(activation1):\n",
    "    updated = np.maximum(0, activation1)\n",
    "    updated[updated > 0] = 1\n",
    "    return updated"
   ]
  },
  {
   "cell_type": "markdown",
   "metadata": {
    "application/vnd.databricks.v1+cell": {
     "cellMetadata": {
      "byteLimit": 2048000,
      "rowLimit": 10000
     },
     "inputWidgets": {},
     "nuid": "f7640767-5956-4532-8484-6c212726b897",
     "showTitle": false,
     "title": ""
    }
   },
   "source": [
    "## Max Pooling Layer"
   ]
  },
  {
   "cell_type": "code",
   "execution_count": 0,
   "metadata": {
    "application/vnd.databricks.v1+cell": {
     "cellMetadata": {
      "byteLimit": 2048000,
      "rowLimit": 10000
     },
     "inputWidgets": {},
     "nuid": "7a5462af-c98f-4a38-b581-30c2b82d4225",
     "showTitle": false,
     "title": ""
    }
   },
   "outputs": [],
   "source": [
    "# Forward pass\n",
    "def maxPool(images, fil, stride):\n",
    "    pooled = [[] for _ in range(images.shape[0])] \n",
    "    poolLocs = [[] for _ in range(images.shape[0])]\n",
    "    # For each convolution feature of image\n",
    "    for k in range(images.shape[0]):\n",
    "        # horizontal slide\n",
    "        for i in range(0,images[k].shape[0]-fil.shape[0]+1, stride):\n",
    "            # vertical slide\n",
    "            for j in range(0,images[k].shape[1]-fil.shape[1]+1, stride):\n",
    "                imgSlice = images[k][i:i+fil.shape[0],j:j+fil.shape[0]]\n",
    "                maxLoc = np.where(imgSlice == np.amax(imgSlice, axis=(0,1)))\n",
    "                maxloc = (maxLoc[0][0] + i, maxLoc[1][0] + j)\n",
    "                maxVal = images[k][maxloc[0]][maxloc[1]]\n",
    "                pooled[k].append(maxVal)\n",
    "                poolLocs[k].append(maxloc)\n",
    "        pooled[k] = np.array(pooled[k]).reshape(ceil((images[k].shape[0] - fil.shape[0] + 1)/stride), ceil((images[k].shape[1] - fil.shape[1] + 1)/stride))\n",
    "        poolLocs[k] = np.array(poolLocs[k]).reshape(ceil((images[k].shape[0] - fil.shape[0] + 1)/stride), ceil((images[k].shape[1] - fil.shape[1] + 1)/stride), 2)\n",
    "    return [np.array(poolLocs), np.array(pooled)]\n",
    "\n",
    "# Backward propagation\n",
    "def inverse_pooling(size, gradPool, maxPoolLocs):\n",
    "    updatedMask = np.zeros(size)\n",
    "    print(gradPool.shape)\n",
    "    for maskIdx in range(size[0]):\n",
    "        # gradients = gradPool[maskIdx]\n",
    "        # locs = maxPoolLocs[maskIdx]\n",
    "        for i in range(gradPool.shape[1]):\n",
    "            for j in range(gradPool.shape[2]):\n",
    "                updatedMask[maskIdx][maxPoolLocs[maskIdx][i][j][0]][maxPoolLocs[maskIdx][i][j][1]] = gradPool[maskIdx][i][j]\n",
    "    return updatedMask"
   ]
  },
  {
   "cell_type": "markdown",
   "metadata": {
    "application/vnd.databricks.v1+cell": {
     "cellMetadata": {
      "byteLimit": 2048000,
      "rowLimit": 10000
     },
     "inputWidgets": {},
     "nuid": "ae101c86-6c30-45ce-a0d6-050c1da2f645",
     "showTitle": false,
     "title": ""
    }
   },
   "source": [
    "## Flatten Layer"
   ]
  },
  {
   "cell_type": "code",
   "execution_count": 0,
   "metadata": {
    "application/vnd.databricks.v1+cell": {
     "cellMetadata": {
      "byteLimit": 2048000,
      "rowLimit": 10000
     },
     "inputWidgets": {},
     "nuid": "f810027e-23d1-4205-ad3c-fc847e7054cc",
     "showTitle": false,
     "title": ""
    }
   },
   "outputs": [],
   "source": [
    "#2D to 1D Forward Pass\n",
    "def flatten(imgs):\n",
    "    images = imgs.reshape(imgs.shape[0] * imgs.shape[1] * imgs.shape[2], 1)\n",
    "    return images\n",
    "\n",
    "#1D to 2D Backward Pass\n",
    "def inverse_flatten(weights,softMaxDer,filters,rows,cols):\n",
    "    flattenedImg = np.dot(weights, softMaxDer.T)\n",
    "    return flattenedImg.reshape(filters, rows,cols)"
   ]
  },
  {
   "cell_type": "markdown",
   "metadata": {
    "application/vnd.databricks.v1+cell": {
     "cellMetadata": {
      "byteLimit": 2048000,
      "rowLimit": 10000
     },
     "inputWidgets": {},
     "nuid": "8fe2614c-9ede-4aaf-be3f-8dc6fba3bc75",
     "showTitle": false,
     "title": ""
    }
   },
   "source": [
    "## Fully Connected Layer"
   ]
  },
  {
   "cell_type": "code",
   "execution_count": 0,
   "metadata": {
    "application/vnd.databricks.v1+cell": {
     "cellMetadata": {
      "byteLimit": 2048000,
      "rowLimit": 10000
     },
     "inputWidgets": {},
     "nuid": "b18dd42c-bd25-489a-a1c6-46bc441eb3c7",
     "showTitle": false,
     "title": ""
    }
   },
   "outputs": [],
   "source": [
    "# Forward Pass\n",
    "def fullyConnected(image, wgt, bias):\n",
    "    fullyConnectedImg = np.dot(wgt.T, image) + bias \n",
    "    return fullyConnectedImg\n",
    "\n",
    "# Backward Propagation\n",
    "# Calculating d(E)/d(W) , where E is CrossEntropyLoss and W is the weight in W.X + B, and inputToFc is X.\n",
    "def derWrtW1(inputToFC, softMaxDer):\n",
    "    return np.dot(inputToFC, softMaxDer)"
   ]
  },
  {
   "cell_type": "markdown",
   "metadata": {
    "application/vnd.databricks.v1+cell": {
     "cellMetadata": {
      "byteLimit": 2048000,
      "rowLimit": 10000
     },
     "inputWidgets": {},
     "nuid": "6236698c-029c-465a-91cf-a8475e1463b9",
     "showTitle": false,
     "title": ""
    }
   },
   "source": [
    "## SoftMax Layer"
   ]
  },
  {
   "cell_type": "code",
   "execution_count": 0,
   "metadata": {
    "application/vnd.databricks.v1+cell": {
     "cellMetadata": {
      "byteLimit": 2048000,
      "rowLimit": 10000
     },
     "inputWidgets": {},
     "nuid": "36cbc5e9-ea25-401b-a36c-d04f436687bf",
     "showTitle": false,
     "title": ""
    }
   },
   "outputs": [],
   "source": [
    "# Forward Pass\n",
    "def softMax(prediction):\n",
    "    normPred = np.exp(prediction - np.max(prediction))\n",
    "    sumNormPred = sum(normPred)\n",
    "    return np.array([pred / sumNormPred for pred in normPred]).reshape(1,10)\n",
    "\n",
    "# Backward Propagation\n",
    "# Calculating d(E)/d(Z) , where E is CrossEntropyLoss and Z in input to softmax layer, i.e W.X + B\n",
    "def derSoftMax(prediction, trueClass):\n",
    "    return prediction - trueClass"
   ]
  },
  {
   "cell_type": "markdown",
   "metadata": {
    "application/vnd.databricks.v1+cell": {
     "cellMetadata": {
      "byteLimit": 2048000,
      "rowLimit": 10000
     },
     "inputWidgets": {},
     "nuid": "418c203e-17ae-4776-834a-7f6a022f5d51",
     "showTitle": false,
     "title": ""
    }
   },
   "source": [
    "## Error Computation"
   ]
  },
  {
   "cell_type": "code",
   "execution_count": 0,
   "metadata": {
    "application/vnd.databricks.v1+cell": {
     "cellMetadata": {
      "byteLimit": 2048000,
      "rowLimit": 10000
     },
     "inputWidgets": {},
     "nuid": "3bd33dbe-6224-4611-bfa6-e177cee566eb",
     "showTitle": false,
     "title": ""
    }
   },
   "outputs": [],
   "source": [
    "# Cross Entropy Error Calculation\n",
    "def crossEntropyError(prediction, trueClass):\n",
    "    prediction = np.clip(prediction, 1e-7, 1 - 1e-7)\n",
    "    return -np.sum(trueClass * np.log(prediction))"
   ]
  },
  {
   "cell_type": "markdown",
   "metadata": {
    "application/vnd.databricks.v1+cell": {
     "cellMetadata": {
      "byteLimit": 2048000,
      "rowLimit": 10000
     },
     "inputWidgets": {},
     "nuid": "aa68fb7b-1bb1-4360-bbb0-4718cc3ad102",
     "showTitle": false,
     "title": ""
    }
   },
   "source": [
    "# Model Training"
   ]
  },
  {
   "cell_type": "code",
   "execution_count": 0,
   "metadata": {
    "application/vnd.databricks.v1+cell": {
     "cellMetadata": {
      "byteLimit": 2048000,
      "rowLimit": 10000
     },
     "inputWidgets": {},
     "nuid": "20bfbff0-6b9f-4ca3-aed4-f56aef6fba87",
     "showTitle": false,
     "title": ""
    }
   },
   "outputs": [
    {
     "output_type": "stream",
     "name": "stdout",
     "output_type": "stream",
     "text": [
      "   Iteration 1/100 | Error: 14.253411091866568 | Acc: 10.033444816053512 | Batch_size:598\n   Iteration 2/100 | Error: 12.466309572001647 | Acc: 21.04404567699837 | Batch_size:613\n   Iteration 3/100 | Error: 13.100626908105573 | Acc: 17.142857142857142 | Batch_size:630\n   Iteration 4/100 | Error: 11.992188760626147 | Acc: 21.525423728813557 | Batch_size:590\n   Iteration 5/100 | Error: 10.76764406287357 | Acc: 31.606217616580313 | Batch_size:579\n   Iteration 6/100 | Error: 11.489954782091477 | Acc: 26.70906200317965 | Batch_size:629\n   Iteration 7/100 | Error: 11.064415182810961 | Acc: 29.01023890784983 | Batch_size:586\n   Iteration 8/100 | Error: 9.462346776574277 | Acc: 39.93453355155483 | Batch_size:611\n   Iteration 9/100 | Error: 9.709843750092611 | Acc: 37.185929648241206 | Batch_size:597\n   Iteration 10/100 | Error: 10.547708326550103 | Acc: 31.67808219178082 | Batch_size:584\n   Iteration 11/100 | Error: 7.898301814605066 | Acc: 49.01639344262295 | Batch_size:610\n   Iteration 12/100 | Error: 9.224444216702022 | Acc: 39.44353518821604 | Batch_size:611\n   Iteration 13/100 | Error: 7.906399961180961 | Acc: 45.860927152317885 | Batch_size:604\n   Iteration 14/100 | Error: 6.882503065217085 | Acc: 53.80952380952381 | Batch_size:630\n   Iteration 15/100 | Error: 6.195944756753199 | Acc: 57.11835334476844 | Batch_size:583\n   Iteration 16/100 | Error: 7.242016539020837 | Acc: 50.814332247557005 | Batch_size:614\n   Iteration 17/100 | Error: 5.658036480945181 | Acc: 61.0 | Batch_size:600\n   Iteration 18/100 | Error: 5.604302178566106 | Acc: 61.88925081433225 | Batch_size:614\n   Iteration 19/100 | Error: 5.882549393319753 | Acc: 61.35265700483091 | Batch_size:621\n   Iteration 20/100 | Error: 5.119846843852075 | Acc: 62.908496732026144 | Batch_size:612\n   Iteration 21/100 | Error: 5.231410096631703 | Acc: 62.84329563812601 | Batch_size:619\n   Iteration 22/100 | Error: 4.7392874850159386 | Acc: 66.37781629116117 | Batch_size:577\n   Iteration 23/100 | Error: 5.8501399710070725 | Acc: 58.843537414965986 | Batch_size:588\n   Iteration 24/100 | Error: 5.744026789847948 | Acc: 58.11437403400309 | Batch_size:647\n   Iteration 25/100 | Error: 4.98304445627962 | Acc: 64.36781609195403 | Batch_size:609\n   Iteration 26/100 | Error: 3.199265250581208 | Acc: 75.94728171334431 | Batch_size:607\n   Iteration 27/100 | Error: 3.2498080264482923 | Acc: 73.93526405451448 | Batch_size:587\n   Iteration 28/100 | Error: 4.014341982718112 | Acc: 68.83561643835617 | Batch_size:584\n   Iteration 29/100 | Error: 4.328469590478391 | Acc: 69.46688206785137 | Batch_size:619\n   Iteration 30/100 | Error: 5.066618664864905 | Acc: 65.14657980456026 | Batch_size:614\n   Iteration 31/100 | Error: 6.028063266714565 | Acc: 58.03722504230119 | Batch_size:591\n   Iteration 32/100 | Error: 4.302396226395679 | Acc: 69.50819672131148 | Batch_size:610\n   Iteration 33/100 | Error: 4.276652749819603 | Acc: 69.05982905982906 | Batch_size:585\n   Iteration 34/100 | Error: 3.574759345937796 | Acc: 73.4789391575663 | Batch_size:641\n   Iteration 35/100 | Error: 2.915872898715279 | Acc: 77.70700636942675 | Batch_size:628\n   Iteration 36/100 | Error: 3.329318346926955 | Acc: 75.84541062801932 | Batch_size:621\n   Iteration 37/100 | Error: 3.2988860659153016 | Acc: 75.91362126245848 | Batch_size:602\n   Iteration 38/100 | Error: 2.4941364454784645 | Acc: 80.98360655737706 | Batch_size:610\n   Iteration 39/100 | Error: 2.989506769171371 | Acc: 77.51677852348993 | Batch_size:596\n   Iteration 40/100 | Error: 4.289556388150996 | Acc: 66.96588868940754 | Batch_size:557\n   Iteration 41/100 | Error: 3.8912923820485794 | Acc: 71.81208053691275 | Batch_size:596\n   Iteration 42/100 | Error: 2.778513870076662 | Acc: 79.40663176265271 | Batch_size:573\n   Iteration 43/100 | Error: 2.4209260487417246 | Acc: 78.61952861952862 | Batch_size:594\n   Iteration 44/100 | Error: 3.6136766854138953 | Acc: 73.43234323432343 | Batch_size:606\n   Iteration 45/100 | Error: 4.438960615146252 | Acc: 68.82453151618398 | Batch_size:587\n   Iteration 46/100 | Error: 4.119867036002982 | Acc: 70.64676616915423 | Batch_size:603\n   Iteration 47/100 | Error: 4.331781244255638 | Acc: 68.60068259385666 | Batch_size:586\n   Iteration 48/100 | Error: 3.7556850248468336 | Acc: 70.84745762711864 | Batch_size:590\n   Iteration 49/100 | Error: 3.9993653537092917 | Acc: 72.13622291021672 | Batch_size:646\n   Iteration 50/100 | Error: 3.1443342397925385 | Acc: 75.64516129032258 | Batch_size:620\n   Iteration 51/100 | Error: 3.0631637176544473 | Acc: 77.55102040816327 | Batch_size:588\n   Iteration 52/100 | Error: 2.754958091875572 | Acc: 79.5644891122278 | Batch_size:597\n   Iteration 53/100 | Error: 2.857530348491762 | Acc: 77.21088435374149 | Batch_size:588\n   Iteration 54/100 | Error: 3.1898405863373 | Acc: 75.87412587412588 | Batch_size:572\n   Iteration 55/100 | Error: 3.3184470615111454 | Acc: 74.91525423728814 | Batch_size:590\n   Iteration 56/100 | Error: 3.2727100492788295 | Acc: 74.32646592709983 | Batch_size:631\n   Iteration 57/100 | Error: 3.2326385979862935 | Acc: 76.17504051863857 | Batch_size:617\n   Iteration 58/100 | Error: 2.4740781372313503 | Acc: 81.05646630236795 | Batch_size:549\n   Iteration 59/100 | Error: 2.1363143554607307 | Acc: 82.16123499142367 | Batch_size:583\n   Iteration 60/100 | Error: 2.225479418504218 | Acc: 83.03886925795054 | Batch_size:566\n   Iteration 61/100 | Error: 2.22002120834391 | Acc: 81.4262023217247 | Batch_size:603\n   Iteration 62/100 | Error: 2.0091372254839883 | Acc: 82.71604938271605 | Batch_size:648\n   Iteration 63/100 | Error: 2.7268386954504775 | Acc: 78.41483979763912 | Batch_size:593\n   Iteration 64/100 | Error: 2.5755424342808007 | Acc: 79.15254237288136 | Batch_size:590\n   Iteration 65/100 | Error: 3.082509061568865 | Acc: 74.95826377295492 | Batch_size:599\n   Iteration 66/100 | Error: 3.5679186955122826 | Acc: 73.34437086092716 | Batch_size:604\n   Iteration 67/100 | Error: 3.887663531937242 | Acc: 72.02572347266882 | Batch_size:622\n   Iteration 68/100 | Error: 3.1788749261331155 | Acc: 76.49006622516556 | Batch_size:604\n   Iteration 69/100 | Error: 3.471454627124947 | Acc: 75.25597269624573 | Batch_size:586\n   Iteration 70/100 | Error: 4.1557692489524225 | Acc: 69.27083333333334 | Batch_size:576\n   Iteration 71/100 | Error: 3.124239904533559 | Acc: 76.85039370078741 | Batch_size:635\n   Iteration 72/100 | Error: 2.6649642637940723 | Acc: 79.15407854984893 | Batch_size:662\n   Iteration 73/100 | Error: 2.0732167316408883 | Acc: 82.87671232876713 | Batch_size:584\n   Iteration 74/100 | Error: 1.9059459714163853 | Acc: 83.44709897610922 | Batch_size:586\n   Iteration 75/100 | Error: 1.9174348629802744 | Acc: 82.89473684210526 | Batch_size:608\n   Iteration 76/100 | Error: 1.8320958279006223 | Acc: 84.04802744425386 | Batch_size:583\n   Iteration 77/100 | Error: 1.9848348801191944 | Acc: 82.77591973244147 | Batch_size:598\n   Iteration 78/100 | Error: 1.4884473988479836 | Acc: 86.09154929577466 | Batch_size:568\n   Iteration 79/100 | Error: 2.083464460091015 | Acc: 82.6625386996904 | Batch_size:646\n   Iteration 80/100 | Error: 2.102498008406813 | Acc: 82.02443280977313 | Batch_size:573\n   Iteration 81/100 | Error: 1.8373078727343586 | Acc: 83.22475570032573 | Batch_size:614\n   Iteration 82/100 | Error: 1.7851691723440068 | Acc: 84.44444444444444 | Batch_size:585\n   Iteration 83/100 | Error: 1.5196241763502039 | Acc: 86.41221374045801 | Batch_size:655\n   Iteration 84/100 | Error: 1.5265856732105298 | Acc: 85.19195612431444 | Batch_size:547\n   Iteration 85/100 | Error: 1.9642103803419735 | Acc: 83.84146341463415 | Batch_size:656\n   Iteration 86/100 | Error: 2.1415216814468896 | Acc: 81.67259786476868 | Batch_size:562\n   Iteration 87/100 | Error: 2.912746675317668 | Acc: 77.53001715265866 | Batch_size:583\n   Iteration 88/100 | Error: 2.8431186449551618 | Acc: 76.52892561983471 | Batch_size:605\n   Iteration 89/100 | Error: 3.1427551411384047 | Acc: 77.27272727272727 | Batch_size:594\n   Iteration 90/100 | Error: 3.0988035556816462 | Acc: 75.4180602006689 | Batch_size:598\n   Iteration 91/100 | Error: 2.8425858552729766 | Acc: 78.31125827814569 | Batch_size:604\n   Iteration 92/100 | Error: 1.950678723836839 | Acc: 83.92226148409894 | Batch_size:566\n   Iteration 93/100 | Error: 2.0572199863454457 | Acc: 82.23270440251572 | Batch_size:636\n   Iteration 94/100 | Error: 1.7299020590183374 | Acc: 84.2948717948718 | Batch_size:624\n   Iteration 95/100 | Error: 1.5378435485444806 | Acc: 85.55729984301414 | Batch_size:637\n   Iteration 96/100 | Error: 1.6712435582232663 | Acc: 85.05942275042445 | Batch_size:589\n   Iteration 97/100 | Error: 1.5388881821473457 | Acc: 86.71209540034071 | Batch_size:587\n   Iteration 98/100 | Error: 1.4598395168589926 | Acc: 86.98630136986301 | Batch_size:584\n   Iteration 99/100 | Error: 1.4077716834862295 | Acc: 87.37704918032787 | Batch_size:610\n   Iteration 100/100 | Error: 1.7649627730450932 | Acc: 84.58844133099825 | Batch_size:571\n############################\nTRAINING COMPLETED\n"
     ]
    }
   ],
   "source": [
    "# Parameters initialization\n",
    "\n",
    "# Kernels for convolution\n",
    "fil=np.random.uniform(size=(3,5,5))\n",
    "\n",
    "# MaxPooling window and stride\n",
    "maxPoolFilter = np.zeros((2,2))\n",
    "strideValue = 2\n",
    "\n",
    "# Dense layer Weights and Bias\n",
    "fc1Neurons = 10\n",
    "orgShape = training_set_rdd.take(1)[0][0].shape\n",
    "fc1WeightVector = np.random.rand(fil.shape[0] * ceil((orgShape[0] - fil.shape[1])/strideValue) * ceil((orgShape[1] - fil.shape[2])/strideValue), fc1Neurons) - 0.5\n",
    "fc1BiasVector = np.random.rand(fc1Neurons, 1) - 0.5\n",
    "\n",
    "# Learning Rate\n",
    "lr = 0.0125\n",
    "\n",
    "# Number of iterations\n",
    "n_iters = 100\n",
    "\n",
    "# Data for training cost and accuracy curves \n",
    "loss_curve = []\n",
    "acc_curve = []\n",
    "\n",
    "\n",
    "# Training begins\n",
    "for i in range(n_iters):\n",
    "    # Forward Propagation\n",
    "    convolution1 = training_set_rdd.sample(False,0.01).map(lambda e : (e[0], conv(e[0], fil, 1), e[1]))\n",
    "    activation1 = convolution1.map(lambda e: (e[0], e[1], reLu(e[1]), e[2]))\n",
    "    maxPooling1 = activation1.map(lambda e: (e[0], e[1], e[2], maxPool(e[2], maxPoolFilter, strideValue), e[3]))\n",
    "    flattened1 = maxPooling1.map(lambda e: (e[0], e[1], e[2], e[3], flatten(e[3][1]), e[4]))\n",
    "    fullyConnected1 = flattened1.map(lambda e:(e[0], e[1], e[2], e[3], e[4], fullyConnected(e[4], fc1WeightVector, fc1BiasVector), e[5]))\n",
    "    normalized = fullyConnected1.map(lambda e: (e[0], e[1], e[2], e[3], e[4], e[5], softMax(e[5]), e[6]))\n",
    "\n",
    "    # Backward Propagation \n",
    "    errAndSoftMaxDer = normalized.map(lambda e: (e[0], e[1], e[2], e[3], e[4], e[5], e[6], crossEntropyError(e[6], e[7]), derSoftMax(e[6], e[7]), e[7], int(np.argmax(e[6]) == np.argmax(e[7]))))\n",
    "    derB1andW1 = errAndSoftMaxDer.map(lambda e: (e[0], e[1], e[2], e[3], e[4], e[5], e[6], e[7], e[8], e[8], derWrtW1(e[4], e[8]), e[9], e[10]))\n",
    "    flattenedInv = derB1andW1.map(lambda e: (e[0], e[1], e[2], e[3], e[4], e[5], e[6], e[7], e[8], e[9], e[10], inverse_flatten(fc1WeightVector, e[8], e[3][1].shape[0], e[3][1].shape[1], e[3][1].shape[2]), e[11], e[12]))\n",
    "    pooledInv = flattenedInv.map(lambda e: (e[0], e[1], e[2], e[3], e[4], e[5], e[6], e[7], e[8], e[9], e[10], e[11], inverse_pooling(e[2].shape, e[11], e[3][0]), e[12], e[13]))\n",
    "    activationInv = pooledInv.map(lambda e: (e[0], e[1], e[2], e[3], e[4], e[5], e[6], e[7], e[8], e[9], e[10], e[11], e[12], inverse_relu(e[2]),e[13], e[14]))\n",
    "    convInverse = activationInv.map(lambda e:(e[0], e[1], e[2], e[3], e[4], e[5], e[6], e[7], e[8], e[9], e[10], e[11], e[12], e[13], inverse_conv(e[0], e[13], e[12], fil.shape), e[14], e[15], 1))\n",
    "    # End of backpropagation\n",
    "    # Filtering only error, bias, weights, kernels from rdd\n",
    "    learningRDD = convInverse.map(lambda e: (e[7], e[9], e[10], e[14], e[16], e[17]))\n",
    "    # Performing reduce to compute mean values\n",
    "    finalRDD = learningRDD.reduce(lambda e1, e2: (e1[0]+e2[0], e1[1]+e2[1], e1[2]+e2[2], e1[3]+e2[3], e1[4]+e2[4], e1[5]+e2[5]))\n",
    "\n",
    "    numRows = finalRDD[-1]\n",
    "    avgLoss = finalRDD[0]/numRows\n",
    "    avgBiasGrad = finalRDD[1]/numRows\n",
    "    avgWeightGrad = finalRDD[2]/numRows\n",
    "    avgFiltersGrad = finalRDD[3]/numRows\n",
    "    avgAcc = finalRDD[4]/numRows\n",
    "\n",
    "    # Applying gradient descent\n",
    "    if avgAcc >= 83:\n",
    "        lr = 0.00125\n",
    "    fc1WeightVector -= lr*avgWeightGrad\n",
    "    fc1BiasVector -= lr*avgBiasGrad.T\n",
    "    fil -= lr*avgFiltersGrad\n",
    "\n",
    "    # Appending this iteration's outputs\n",
    "    loss_curve.append(avgLoss)\n",
    "    acc_curve.append(avgAcc)\n",
    "\n",
    "    print(f\"   Iteration {i+1}/{n_iters} | Error: {avgLoss} | Acc: {avgAcc*100} | Batch_size:{numRows}\")\n",
    "print(\"############################\")\n",
    "print(\"TRAINING COMPLETED\")"
   ]
  },
  {
   "cell_type": "code",
   "execution_count": 0,
   "metadata": {
    "application/vnd.databricks.v1+cell": {
     "cellMetadata": {
      "byteLimit": 2048000,
      "rowLimit": 10000
     },
     "inputWidgets": {},
     "nuid": "4f2fe53d-0566-4159-b3e9-66c23d8adeb3",
     "showTitle": false,
     "title": ""
    }
   },
   "outputs": [
    {
     "output_type": "display_data",
     "data": {
      "image/png": "[encoded data removed]"
     },
     "metadata": {
      "application/vnd.databricks.v1+output": {
       "addedWidgets": {},
       "arguments": {},
       "data": "data:image/png;base64,iVBORw0KGgoAAAANSUhEUgAAAX4AAACgCAYAAAALmQcXAAAAOXRFWHRTb2Z0d2FyZQBNYXRwbG90bGliIHZlcnNpb24zLjUuMSwgaHR0cHM6Ly9tYXRwbG90bGliLm9yZy/YYfK9AAAACXBIWXMAAAsTAAALEwEAmpwYAAAoOUlEQVR4nO3deXhU5fXA8e+Z7HvIDgmQBIKELew7iIqKiBtKrVvVYl3qWru5tNZaa7VS21qtrf5csCpugIIoKouCgoSdIAmELYSEkITs+zLv74+ZxAAJhJBkkpnzeZ48mbvMvefmwpk75773fcUYg1JKKddhcXQASimlOpcmfqWUcjGa+JVSysVo4ldKKRejiV8ppVyMJn6llHIxmvhVlyUin4nIze29rlKuTrQdv2pPIlLWZNIXqAbq7dN3GGPe7vyo2k5EpgGrgIoTFl1ojFnfiXF4Ao8ANwC9gDx7XE8YYw52VhzKObg7OgDlXIwx/g2vReQgcJsxZsWJ64mIuzGmrjNjOwvZxpiY060kIoLtYsraZN4ZHecp1v8QiAGuB7YCfsCNwAXAq63dfltiUs5HSz2qU4jINBE5LCK/FZEc4HUR6SEin4hInogU2l/HNHnPVyJym/31LSLyjYjMs697QEQuaeO6cSKyRkRKRWSFiLwoIm+18bi+EpE/i8i32L4VxIuIEZG7RSQdSLev9zMR2SsiBSKyRER6NdnGSeufsI/pwIXAFcaYjcaYOmNMsTHmRWPMq/Z1DtrXa3jP4w3HJCKx9n3MFZFDwCp7aeyeE/azXURm218PFJEv7fHuFpEfteXvo7omTfyqM0UBIUBf4HZs//5et0/3ASqBF07x/nHAbiAM+Cvwqv0q+0zXfQdIBkKBx4Gb2nxENjdhO54AIMM+70p7DINE5HzgL8CPgJ72dd49YRuN6zez/elAsjEm8yzjPBdIBC4GFgDXNSwQkUHYzsMyEfEDvsT2d4oAfgz8276OcgKa+FVnsgJ/MMZUG2MqjTHHjDELjTEVxphS4M/YklNLMowxrxhj6oH52JJo5JmsKyJ9gDHAY8aYGmPMN8CS08TdS0SKTvjxa7L8DWPM9/Yr8Vr7vL8YYwqMMZXY6vKvGWO2GGOqgYeBCSIS22QbTdc/UShw5DQxtsbjxphy+z4WA8NFpK992Q3AInt8s4CDxpjX7ce0FVgIzGmHGFQXoIlfdaY8Y0xVw4SI+IrIf0UkQ0RKgDVAsIi4tfD+nIYXxpiGm63+Z7huL6CgyTyA011JZxtjgk/4KT/N+5vO68UP3wQwxpQBx4DoVsZwDNsH19lq3If9g3YZtqt5sF39N9x47wuMa/pBh+2DIaodYlBdgCZ+1ZlObEL2S+AcYJwxJhCYap/fUvmmPRwBQkTEt8m83me5zeaaxjWdl40tmQJg/7YQCmSdZhsNVgBjm97/aEY5tlZUDZpL0ifuYwFwnYhMALyB1fb5mcDXJ3zQ+Rtj7jrF/lU3oolfOVIAtrp+kYiEAH/o6B0aYzKATcDjIuJpT3qXdfBuFwC3ishwEfECngI2tLYZpr1V1JfAYhEZJSLuIhIgIneKyE/tq20DfiwiHiIyGrimFZv+FNsH0hPAe01aI30CDBCRm+zb8xCRMSKS2NoDVl2bJn7lSP8AfIB84DtgeSft9wZgArYSypPAe9ieN2hJLxEpO+Hn6tbuzJ64f4+tTn4E6McPJZbWugZbon4PKAZ2AqOxfRvAvv1+QCHwR2w3Zk8XVzWwCNvN43eazC8FLrLHmI2tbPYM4HWGMasuSh/gUi5PRN4D0owxHf6NQ6muQK/4lcuxly36iYhFRGYAVwAfOTgspTqNPrmrXFEUthJHKHAYuMveZFEpl6ClHqWUcjFa6lFKKRejiV8ppVxMt6jxh4WFmdjYWEeHoZRS3crmzZvzjTHhJ87vFok/NjaWTZs2OToMpZTqVkQko7n5WupRSikX49SJPy2nhHX78h0dhlJKdSlOnfj/vCyVx5d87+gwlFKqS3HqxD8+PpQ9R8soKK9xdChKKdVlOHXiHxcXAkDygWMOjkQppboOp078w2KC8faw8N3+AkeHopRSXYZTJ35Pdwsj+/RgwwFN/Eop1cCpEz/AuLhQ0nJKKK6oPf3KSinlApw/8ceHYAwkH9SrfqWUAhdI/MN7B+PpbmHD/h9u8NZbDcfKTjXgklJKOS+nT/zeHm4M7x3cWOc3xvCzNzcx/bmvKa+uc3B0SinV+Zw+8QOMjwvh++xiSqtqeSf5EKvScimsqOWTHdmODk0ppTqdSyT+cfGhWA0s3HyYJz9JZUpCGAkR/ryTnOno0JRSqtO5ROIf2acHHm7CE5/swsNNePaaJK4b24ftmUXsyi5xdHhKKdWpXCLx+3i6MSwmGKuBJ68aSlSQN7NHRuPpbuHdjYccHZ5SSnUql0j8AD+f1o9fXTSAy5N6ARDs68nMIVEs3ppFZU29g6NTSqnO4zKJ/4LESO45P+G4eT8e24fSqjqWpRxxUFRKKdX5XCbxN2dcXAjxYX68m6zlHqWU63DpxC8iXDumN5syCtmfV+bocJRSqlO4dOIHuHJENCLw0TZt06+Ucg0un/gjA72Z1C+Mj7ZmYYxxdDhKKdXhXD7xg+2q/1BBBVszixrnrU3P4/x5X7F+nw7iopRyLpr4gYsHR+LtYeGjrVkAVNbU8/CiFPbnl3PL68ms2ZPn4AiVUqr9aOIHArw9mJ4YydLt2dTWW/n3V3s5XFjJi9ePJD7cn9vmb2Jl6lFHh6mUUu1CE7/dVSOiKayoZf66g/z36/1cNSKaS4f1ZMHPxnFOVAB3/G8ze3O15Y9SqvvTxG83dUA4PXw9eHJZKl7uFh6eORCwPeH7yk9GU2c1fLlLr/qVUt2fJn47DzcLl9m7c/jVxecQEeDduCwqyJuBUQFa61dKOQVN/E3ceW4/fjtjIDeO73vSsnMHhLMpo4CKmpYHb9mcUUBplY7tq5Tq2jos8YvIayKSKyI7m8wLEZEvRSTd/rtHR+2/LXoF+3DXtH64WeSkZVMSwqmtN2zY3/zYvdszi7j6pfXMX3ewg6NUSqmz05FX/G8AM06Y9xCw0hiTAKy0T3cLo2N74OVuYU168+WeeV/sBiA1p7Qzw1JKqTPWYYnfGLMGOPHy+Apgvv31fODKjtp/e/P2cGNcfGizdf51+/JZm56Pp5uFvUe15Y9Sqmvr7Bp/pDGmoQ/kHCCyk/d/VqYmhLEvr5ysosrGecYYnv18N1GB3twwvg/788uorbc6MEqllDo1h93cNbaOcVrsHEdEbheRTSKyKS+va7SmmTogHIBvmpR7VqbmsvVQEfdPT2BodBC19YaMYxWOClEppU6rsxP/URHpCWD/ndvSisaYl40xo40xo8PDwzstwFNJiPAnMtCLNen5ABRX1DLvi93EhvpyzagYEiICAEg/qnV+pVTX1dmJfwlws/31zcDHnbz/syIiTEkI55v0fN749gDT5q1m99FSHrokEQ83C/0i/ABI1yd8lVJdWEc251wArAfOEZHDIjIXeBq4UETSgen26W5lSkIYxZW1PL50F4k9A/nk3snMGBIFgK+nO71DfNijV/xKqS7MvaM2bIy5roVFF3TUPjvD9MRIrhvbmwsGRnJBYgQix7f5T4gIOKlPn+q6etwtlmafD1BKqc522it+EbGIyMTOCKY78PNy5y+zhzF9UORJSR8gIdKf/Xnl1Nlb9lithpn/XMufPtnV2aEqpVSzTpv4jTFW4MVOiMUpJEQEUFNvJaPA1rJna2YR+/LK+WhbljbzVEp1Ca2t8a8UkauluUtcdZwBkf7ADy17PkuxPbZQVFGro3kppbqE1ib+O4APgBoRKRGRUhEp6cC4uq1+4Q2JvwxjDJ/tzGFy/zD8vdxZtuPIad6tlFIdr1WJ3xgTYIyxGGM8jDGB9unAjg6uO/Lzciemhw/puWVsyywiq6iSq0ZEMz0xgs935Wi5RynlcK1uzikil4vIPPvPrI4MqrtLiPBnz9FSPk05goebMH1QJDOH9tRyj1KqS2hV4heRp4H7gV32n/tF5C8dGVh3lhAZwP68cj5NsZV5gnw8mDogXMs9SqkuobVX/DOBC40xrxljXsPW3fKlHRdW95YQ4U9NvZWsokpmDu0J2Hr31HKPUqorOJMnd4ObvA5q5zicSkKkrc8ed4tw0aCoxvla7lFKdQWtTfxPAVtF5A0RmQ9sBv7ccWF1b/0jbC17JvUPI8jXo3F+Q7ln6fZsR4WmlFKte3IXsALjgUXAQmCCMea9Do6t2/L3cufRmYk8eOGA4+Z7e7gxa1hPlu7IpqiixkHRKaVcXWuf3P2NMeaIMWaJ/SenE2Lr1n42NZ6k3sEnzb95YixVtVbe25jZ+UEppRStL/WsEJFfiUhv+4DpISIS0qGROanEnoGMjw/hzfUZjf35KKVUZ2pt4r8WuBtYg62+vxnY1FFBObtbJsaRVVTJitTmx6GpqKkjp7iqk6NSSrmK1tb4HzLGxJ3wE98J8Tml6YkRRAf78Ma6A80uf3hRCrP+9Q311hZHplRKqTZrbY3/150Qi8twd7Pwkwl9+W5/AalHju/y6GhJFct2HCG/rJodh4scE6BSyqlpjd9Brh3TG28PC69+c/xV/zsbDlFnNYjAmj35DopOKeXMtMbvIMG+nlw/ti8Ltxxmc0YhADV1Vt5JPsS0c8IZFh3EmvQ8B0eplHJGre2d88T6vtb428GDFw2gZ6A3Dy3cQU2dlc+/zyGvtJqfTOjL1AHhbMssoriy1tFhKqWczCkTv4j8psnrOScse6qjgnIV/l7uPHnVENJzy3jpq328uf4gfUJ8OXdABFMHhFNvNazbq+UepVT7Ot0V/4+bvH74hGUz2jkWl3T+wEguT+rFv1als/FgITeN74ubRRjeO5gAL3ct9yil2t3pEr+08Lq5adVGj102CH9vd7zcLcwZHQOAh5uFif1DWbMnH2O0WadSqv2cLvGbFl43N63aKMzfi//eOIp/XDucYF/PxvlTB4STVVTJvrxyB0bXepsOFvDwoh1Y9fkDpbq00yX+pIYxdoFh9tcN00M7IT6XMS4+lEvsffc3mJoQDsCaPceXe4wxfJZyhF++v52y6rpWbd8Yw4LkQyzZns3RkvZ/KtgYw5+WpbIgOZM9uaXtvn2lVPtxP9VCY4xbZwWiTtY7xJf4MD9W787l+nF98PZwI7uoksc+/p4VqUcBCA/w4qFLBp52WxsPFvLwopTG6b6hvjx55RCm2D9czlbygQK2ZxYBsG7vMQZG6ZDMSnVVZzIQi3KAaedEsDY9n4G/X87oJ1dwwd++5tu9+Tw6M5Erh/fitW8OkHHs9KWgd5MP4e/lzod3TuB3lyYiwG8/3EFlTX27xPnymv2E+HkSHezD+v060IxSXdkpr/g7iogcBEqBeqDOGDPaEXF0B/dPT2Bwr0Cyiio5XFiBINxzfn96h/hytKSKL3Yd5c/LUnn5Jy3/CYsralmWcoRrRsUwOjaE0bEhDIsJ5kf/Xc9/1+zjgekDWnxva6QfLWVlWi4PTE/gSFEVn+08Qr3V4GbR+/9KdUUOSfx25xljtJH6aQT5eHD1qJhml0UGenP3ef159vPdfLs3n0n9w6irt3KkuIreIb6N6320LYvqOivXje3TOG9sXAizhvXkP1/vY87o3kQH+7Q5xlfW7sfbw8JPJsSyNj2P9zZlknqkhCHROkKnUl2Rlnq6ubmT44jp4cOji1OY+8ZGRjzxJVP+upoXVqUDP9zUHRoddFIifnhmIsbA05+ltXn/R0uq+GhrNnNG9SbEz5MJ8aEArNunn+lKdVWOSvwG+EJENovI7Q6KwSl4e7jx2KxBHDxWwf78cmYl9eLCQZHM+2IP72/KZFtmEWk5pfx4bO+T3hsd7MMd5/Zj6fZsNh4saNP+X16znzqrldumxAEQEehNfLifDiivVBfmqFLPZGNMlohEAF+KSJoxZk3TFewfCLcD9OnTp7ltKLuLBkeR+sQMfDxtjbBq6qzMnb+RhxelMKRXIL6eblye1KvZ9955bjxvf5fB/9ZnMCb2zDpcTT9ayvx1B/nR6N70DfVrnD8hPpSPt2VTV2/F3U2/VCrV1Tjkf6UxJsv+OxdYDIxtZp2XjTGjjTGjw8Pbp8mhM2tI+gCe7hZeunEUA6MC2H64mMuG9SLA26PZ9/l6ujOxfxgbDhw7oyeEjTH8Ycn3+Hm585sZxzcnndAvlLLqOlKyitt2MEqpDtXpiV9E/EQkoOE1cBGws7PjcHb+Xu68fusYrhkVw13T+p1y3XFxIRwtqSbjWEWrt/9pSg7r9h3jVxcNIMTP87hl4xvr/FruUaorcsQVfyTwjYhsB5KBZcaY5Q6Iw+lFBHgzb04SsWF+p1xvfLytxLPhQOsSdXl1HU8u28WgnoFcP67vScvD/L0YEOnPd124Pf/+vDKeWZ5GYXmNo0NRqtN1eo3fGLMfSOrs/aqW9Qv3J8zfkw37C7h2zKnvp1TU1PHwohSOFFfxwvUjWmyrPyE+lHc3ZvLg+9sI9PagT4gvN03oi0c71vy/+D4HiwjTB0We0fuMMTy8KIUNBwpYvCWLf/x4OOPjQykor+G1bw6wKi2Xv/0oicSe+vSxck6ObMevuggRYWxcCBsOFGCMQaT5ZL4zq5j73t3KgfxyfnnhAEb1bflm8OyRMWzKKGTD/gJKqmopraqjqq6en0/r3y4xV9XW88v3t1NaXccjMwdy+9RTl7Oa+npPHhsOFHDLxFjW7Mnjule+46JBkazZk09VXT0+Hm78/O0tLLlnUov3RlzRur35bD9cfNrSoer6tMmFAmx1edvTwZXNLv9gUyZX/ftbKqrrefu2cdx7QcIpt5fUO5hl903h24fOJ+Xxi5kxOIp/rkjn0BncRziVten5lFbXMSQ6kKc+TePPy3a1qldQq9Xw1+W76R3iwyMzE1l672SuHhnD6t15XDIkii9/MZXXbhlDxrFyHlqY0njDO6e4ihdWpZNXWt0u8Xc3heU13LtgK88sT2N3jnbC191p4lcAjIuz3ZBtri6fU1zFYx9/z6i+Pfjs/ilM7Bd2xtt//PLBeLhZePSjlHYZX+CTHdn08PVg4V0TuXlCX15Ze4Anl6We9n1Ld2Sz60gJv7zwHDzdLfh5uTNvThK7/zSD564dTv+IAMbHh/LriweyLOUI//l6P899sZtp81Yz74s9PLO87Q+7dVWlVbU89vFOXv/2QIvr/GnZLoora/F0tzB//cHOC051CE38CoCECH96+Hqw4cDJD3L9dXka9cbw7DVJ9DihBU9rRQV58+uLz2Ftej5LtmefVaxVtfWs2HWUGUOi8HJ34/HLBzNnVAxvfZdBwSlu1tbUWfnbF3sYGBVw0nMNJ5a37pgazwUDI3hmeRrPr9rLhYOimD0ymkVbDrMvr+ys4u9KtmUWcenz3/Dm+gyeXJbKruySk9ZZsyePRVuyuGtaP65I6sXiLVkUV+hY0N2ZJn4FgMXSUOc//op/y6FCFm3N4rbJccf1/9MWN47vS1JMEH/6ZBdFFW1vTfPV7lzKa+q5dKgteYsIt02Jp6beyqIth1t838IthzlUUMFvZwzEcpoO5CwW4bkfDef2qfEs/vlE/nXdCB6ZmYiXuxv/XJHe5ti7kte+OcA1L62j3mp49ebRBPt48MjilONKZhU1dTyyOIX4cD/uPq8/N0+MpbK2ng82ZzowcnW2NPGrRuPiQsksqCS7yFbnt1oNTyzdRXiAFz8/7+xvyrpZhKdmD6WwopYnlu5q83aW7jhCqJ9nYzNUgHOiAhjRJ5h3N2a2WEp6N/kQiT0DmXZO6x4IDPL14JGZiYzo0wOwNVO9ZVIsS3dkk5Zz8pVxd/K/9Qd54pNdnDcwgk/vm8IFiZH8blYi2zKLeCf5EGDr1fXB97ZzuLCSp2cPw9vDjSHRQYzu24M312dQryOtdVvaqkc1GmdPpF/tzmNMbA9WpOayLbOIZ68Zhr9X+/xTGdwriLun9eP5VXuZObRnY1PMPUdL+fUH26msrSfYx5MQP08euDDhpAFdKmrqWJWay+yR0Sd1B3HdmD78ZuEONmcUMvqE7if25pay/XCxbSyCFlottcYdU+N5a30Gf/9yD/+96cx6E88tqWL17lxWp+WRX1ZNZKA3EYFeRAZ6E+7vRViAF4k9A4gI8G5zfK3xacoRHlvyPdMTI3jphpGNf8crh0fz4ebDPLM8DS93C89+vpuC8hoemTmQsXE//D1vmRTLPe9s5avduVyQeGZNaVXXoIlfNUqMCiTQ251HFv8wUtfIPsFcPbL5bqHb6p7zE/hi11EeXpzC6NgeZByr4ObXk/FwszCqTw+KKmv4dl8+h4sqWHL35OPKMqvScqmsrWfWsJP7HpqV1JMnPtnFO8mHTkr8C7dk4WYRrhgefVaxB/t68tPJcfxzZTrPr0xnRJ9gEnsGEubv1eJ78suq+e2HO1iZlgtAzyBv+ob6kppTwle7qyhvMhhOgLc7Kx48l8jAjkn+6/cd44F3tzGqTw/+dd3I4z48RYQ/XTGEGf9Yy68/3MHAqABeu2XMSb26Xjw4iqhAb95Yd9ApE39+WTVvrjuIm8VCZKAXkUHeTIgPxdvDeQYk1MSvGlkswt+vHc6eo2X0CvYmOtiHIdFBp62HnylPdwvz5iRx5YvfctdbW0jJKibY14O3bxvX2Nnboi2HefD97SzdkX1csl66PZvwAK/jrkAb+Hq6c/nwXizacpg/XDaYIB9bG/x6q+GjrVmcOyCc8ICWE3RrzZ0Sx4rUozz35Z7GeTOHRvHnK4eedPM7+UAB9y7YQmFFLfdfkMCMIVEMjAo47ltHeXUd+WXVHMgv5/Y3N/PM8jSe+9Hws47zRLtzSrn9zU3EhvnyfzePPq5/pwbx4f48O2cYOcVV3DopDk/3k6vBHm4WbpkUy9OfpfHi6r3c3Q5lwK5i+c4cHl2cQmFFDU0rWTE9fPjdpYO4eHDkWX1j7Co08avjXJAY2SlXcUOig/j5ef15fmU6/SP8eWvuOKKCfrjKvXJ4NK+sPcCzn+9ubL2zcPNhPv/+KHecG9/iE8PXjenDOxsO8fG2LH4yIRawNVE9UlzFo5cmtkvsgd4eLLtvCoXlNaQeKeHbffm8vGY/mw4WMm9OEiP6BLPlUBFr9uTxxrqD9Anx5fVbxjKoV/NPAvt5uePn5U7fUD/mTonjpa/2cdP4vo33FtrD0ZIqbn09GR9PN964dSzBvi23zmrNt6Lbp8SzO6eUZz/fjbeHG3Mnx7VbrJ3lu/3HuOutzUQGetM/wp+aOitf7DrKkOhAFtw+nthQP/LKqknNLuHZz3dz51ubmdQ/lGevSaLXWQxc1BVIe7Sp7mijR482mzZtcnQYqp3V1FlZvPUwFw6KOqmjN4C16Xnc9Goyv7s0kQGRAfz0jY2Miw/h9VvGNnsl2uDS59dSWF7Dm3PH0j8igAff38aXu46y8dHpHfZ1fWdWMb94bxvpuWVYBKwGLAKXJfXiySuHtPoJ4LLqOs6f9xU9g31YfNfENn3bqq6r5+nP0ugb4svMYT3x83Tn2pfXsz+vnPfvmNBuI6PV1Vu5d8FWPtuZw1NXDeX6cd2n+/S6eiuXPv8NRZU1DOoZyL68cvLLqrltSjz3nt//pK5F6uqtvJN8iKc/S2Ny/7BTDnXalYjI5uaGttXEr7q0m17dwPbMIuqtht4hvrx/5wQCT5NEt2cWMXf+Jqpq63lq9lAeWriDK4ZH85fZQzs01qrael795gA1dVbGxIYwvE9wm26KL9x8mF9+sJ2/zUlqcdjNU/nXynT+Zi9DWQSiAr3JKani1ZvHcN7AiDPe3qnU1Fm543+b+GpPHm/NHcek/mf+cJ8jvL0hg0cX7+Q/N45kxpCeAKfsrqTBP1bs4R8r0vn0viktfoPrSlpK/NqcU3VpD10ykNLqOoJ8PJj/07GnTfpg6y5iyT2TiAvz474FW6moqefqkWd3U7c1vD3cuPu8/vziwgFMTghrc0uoq0ZEk9Q7mL98lkrK4TMb0+DQsQpeWL2XS4f25MtfTOWe8/oT5OvJX2YPbfekD7b7NS/eMJL4MD8eeG9bt+jSoqSqlr99sYdxcSFcPDiqcX5rave3TowjwMudF1Z372c5NPGrLm1wryD+99NxfHDXxDNq6dIr2IcP7pzAnFExTO4fxqi+7Vcv72gWi/DXq4fh4Wbh6v+sY0HyocZnE2rqrOzLK2NfXhkH88vJLalqfJ8xhseW7MTdIvx+1iASIgN48KJz+Oz+KaftdfVs+Hq68+INIymprOXB97e1qs8kR3ph1V4KK2r4/axBZ3yjNsjXg1snxfJpSk637rNISz1KdVHHyqp54L1trE3PZ0pCGCWVtaQeKaWm3nrcepP6h3LPeQkUVdRw19tb+P2sQQ652bog+RAPL0rh1xef0y4tfYora8k4Vk5FTT2VtfUkRgUe1wDgTNVbDavScvn525uZPSKGZ64Z1qbtFFXUMOnpVZw3MIIXrh/Z5ng6g9b4leqG6q2Gf61K593kTOLC/BgaE8Q5kQG4uwn1VkNWYSXz12eQX1aNh5vQPyKApfdMcshYx8YY7nt3G0u3ZzO5fxhzRsdw8eCoxhvqzdXQs4oqWZ2Wy/TEyOOS+pHiSmY9/w3HmvS95O1h4d7zE7htShxe7q2/SV9aVcv8dQdZkJxJVlEl0cE+LL574lk9KPfX5Wm89PU+Hpw+gF1HSticUUhS72Cenj2U0FM809HZNPEr5aSqauv5YFMmH2/L5rHLBjEsJthhsVTU1PHKmgN8sDmTw4WVeLpbcBOhpt6KMYb4cH8G9wokNtSPdfvy2XiwEID+Ef58eOcEgn09qau3cv0rG9iZXcwzVw8jxM8Td4vwxrqDfLYzh/gwP26dHEefEF+ig33oE+LbYiuv4opabnx1AylZxUzqH8r1Y/ty4aDIU7YKa42C8hqm/nU1ZdV1xPTwYWh0ECtTc+nh58G/rhvZ7HMmbVFcWdv4PEpbaOJXSnUaq9Xw3YFjrLY/rezpbsFqIP1oGbuyi8kurmJApD+XJ/WiT6gfv3p/O8N7B/Pm3LH8e/Venl+1l79fm8RVI45v1fTV7lz+uHQXB/LLG+dFBHjxu1mDuGxYz+O+URRV1HDjqxvYk1PGSzeObPfnUzILKrBYhGh7m/6dWcXc884WDhVUMHdyHD+dHEfPoB/a+2ccK6esuo7EqMDTNtM1xjB/3UGe+3IPH941kQGRAW2KURO/UqrLqKipw9fzh1ZPS7Znc9+CrYzu24PNhwq5emQM8+Y0P0JrvdWQU1JFdlElmQUVvP7tQVKyipnYL5S7pvXD3WKhzmrlmeVp7Mkp4783jeqQFk3NKauu4/El37Noy2FEhEuGRBHTw5eVqUdJz7V15x0R4MUFiRFMTQhnUK9AevfwPe6DoLqunt9/tJP3Nx1memIkf782qc0jwWniV0p1aS+v2cdTn6bRL9yPpfdOPu6D4VTqrYZ3kg/x7PI0SqrqGud7ulk6Nek3lVlQwZvrD/Luxkwqa+oZGxfC9MRIAn08WJV2lDV78imrtsXq6+lG/wh/Ynr40CvIh00ZhWzLLOK+8/vzwPQBZ9VliiZ+pVSXZozh05QcknoHEdPjzMd+KCyv4fvsEtwsgrubrQTj6K4VqmrrqbOak57pqK6rJ/VIKbtzSkg9Usq+vDKyimxdortbLDxz9TAuHdbzrPeviV8ppbo4Ywz1VtNurbJaSvzaSZtSSnURIrZvKx1Nn9xVSikXo4lfKaVcTLeo8YtIHpDRxreHAfntGE534YrH7YrHDK553HrMrdPXGHPSINPdIvGfDRHZ1NzNDWfnisftiscMrnncesxnR0s9SinlYjTxK6WUi3GFxP+yowNwEFc8blc8ZnDN49ZjPgtOX+NXSil1PFe44ldKKdWEUyd+EZkhIrtFZK+IPOToeDqCiPQWkdUisktEvheR++3zQ0TkSxFJt//uPmMPtpKIuInIVhH5xD4dJyIb7Of7PRHxdHSM7U1EgkXkQxFJE5FUEZng7OdaRH5h/7e9U0QWiIi3M55rEXlNRHJFZGeTec2eW7F53n78O0TkjIYCc9rELyJuwIvAJcAg4DoRGeTYqDpEHfBLY8wgYDxwt/04HwJWGmMSgJX2aWdzP5DaZPoZ4O/GmP5AITDXIVF1rH8Cy40xA4EkbMfvtOdaRKKB+4DRxpghgBvwY5zzXL8BzDhhXkvn9hIgwf5zO/DSmezIaRM/MBbYa4zZb4ypAd4FrnBwTO3OGHPEGLPF/roUWyKIxnas8+2rzQeudEiAHUREYoBLgf+zTwtwPvChfRVnPOYgYCrwKoAxpsYYU4STn2tsfYr5iIg74AscwQnPtTFmDVBwwuyWzu0VwJvG5jsgWERa3Z2nMyf+aCCzyfRh+zynJSKxwAhgAxBpjDliX5QDtO/wQ473D+A3QMPI46FAkTGmoUN2ZzzfcUAe8Lq9xPV/IuKHE59rY0wWMA84hC3hFwObcf5z3aClc3tW+c2ZE79LERF/YCHwgDGmpOkyY2u65TTNt0RkFpBrjNns6Fg6mTswEnjJGDMCKOeEso4Tnuse2K5u44BegB8nl0NcQnueW2dO/FlA7ybTMfZ5TkdEPLAl/beNMYvss482fPWz/851VHwdYBJwuYgcxFbCOx9b7TvYXg4A5zzfh4HDxpgN9ukPsX0QOPO5ng4cMMbkGWNqgUXYzr+zn+sGLZ3bs8pvzpz4NwIJ9rv/nthuCC1xcEztzl7bfhVINcY812TREuBm++ubgY87O7aOYox52BgTY4yJxXZeVxljbgBWA9fYV3OqYwYwxuQAmSJyjn3WBcAunPhcYyvxjBcRX/u/9YZjdupz3URL53YJ8BN7657xQHGTktDpGWOc9geYCewB9gGPOjqeDjrGydi+/u0Attl/ZmKrea8E0oEVQIijY+2g458GfGJ/HQ8kA3uBDwAvR8fXAcc7HNhkP98fAT2c/VwDfwTSgJ3A/wAvZzzXwAJs9zFqsX27m9vSuQUEW6vFfUAKtlZPrd6XPrmrlFIuxplLPUoppZqhiV8ppVyMJn6llHIxmviVUsrFaOJXSikXo4lfOT0RKbP/jhWR69t524+cML2uPbevVEfQxK9cSSxwRom/ydOhLTku8RtjJp5hTEp1Ok38ypU8DUwRkW32Pt7dRORZEdlo79P8DgARmSYia0VkCbanRBGRj0Rks71f+Nvt857G1mvkNhF52z6v4duF2Le9U0RSROTaJtv+qkmf+m/bn0hFRJ4W27gKO0RkXqf/dZTLON3VjFLO5CHgV8aYWQD2BF5sjBkjIl7AtyLyhX3dkcAQY8wB+/RPjTEFIuIDbBSRhcaYh0TkHmPM8Gb2NRvbU7ZJQJj9PWvsy0YAg4Fs4FtgkoikAlcBA40xRkSC2/fQlfqBXvErV3YRtv5OtmHryjoU28AWAMlNkj7AfSKyHfgOW+dYCZzaZGCBMabeGHMU+BoY02Tbh40xVmxdbMRi6264CnhVRGYDFWd5bEq1SBO/cmUC3GuMGW7/iTPGNFzxlzeuJDINWy+RE4wxScBWwPss9lvd5HU94G5sfcuPxdbj5ixg+VlsX6lT0sSvXEkpENBk+nPgLnu31ojIAPvAJicKAgqNMRUiMhDbEJcNahvef4K1wLX2+wjh2EbOSm4pMPt4CkHGmE+BX2ArESnVIbTGr1zJDqDeXrJ5A1sf/rHAFvsN1jyaH8JvOXCnvQ6/G1u5p8HLwA4R2WJsXUM3WAxMALZj6z31N8aYHPsHR3MCgI9FxBvbN5EH23SESrWC9s6plFIuRks9SinlYjTxK6WUi9HEr5RSLkYTv1JKuRhN/Eop5WI08SullIvRxK+UUi5GE79SSrmY/wccN43ahQy1JwAAAABJRU5ErkJggg==\n",
       "datasetInfos": [],
       "metadata": {},
       "removedWidgets": [],
       "type": "image"
      }
     },
     "output_type": "display_data"
    }
   ],
   "source": [
    "# Cost curve over iterations\n",
    "pyplt.subplot(2, 1, 1)\n",
    "pyplt.plot(loss_curve)\n",
    "pyplt.xlabel('Iterations') \n",
    "pyplt.ylabel('Error') \n",
    "pyplt.title(\"Training Error Curve\")\n",
    "pyplt.show()"
   ]
  },
  {
   "cell_type": "code",
   "execution_count": 0,
   "metadata": {
    "application/vnd.databricks.v1+cell": {
     "cellMetadata": {
      "byteLimit": 2048000,
      "rowLimit": 10000
     },
     "inputWidgets": {},
     "nuid": "19802dbf-d767-465b-94b5-1f532ea6c0af",
     "showTitle": false,
     "title": ""
    }
   },
   "outputs": [
    {
     "output_type": "display_data",
     "data": {
      "image/png": "[encoded data removed]"
     },
     "metadata": {
      "application/vnd.databricks.v1+output": {
       "addedWidgets": {},
       "arguments": {},
       "data": "data:image/png;base64,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\n",
       "datasetInfos": [],
       "metadata": {},
       "removedWidgets": [],
       "type": "image"
      }
     },
     "output_type": "display_data"
    }
   ],
   "source": [
    "# Accuracy curve over iterations\n",
    "pyplt.subplot(2, 1, 2)\n",
    "pyplt.plot(acc_curve)\n",
    "pyplt.xlabel('Iterations') \n",
    "pyplt.ylabel('Accuracy') \n",
    "pyplt.title(\"Training Accuracy Curve\")\n",
    "pyplt.show()"
   ]
  },
  {
   "cell_type": "markdown",
   "metadata": {
    "application/vnd.databricks.v1+cell": {
     "cellMetadata": {
      "byteLimit": 2048000,
      "rowLimit": 10000
     },
     "inputWidgets": {},
     "nuid": "8952ae01-4ff3-41d8-86c8-5ee14f73256e",
     "showTitle": false,
     "title": ""
    }
   },
   "source": [
    "# Testing Phase"
   ]
  },
  {
   "cell_type": "code",
   "execution_count": 0,
   "metadata": {
    "application/vnd.databricks.v1+cell": {
     "cellMetadata": {
      "byteLimit": 2048000,
      "rowLimit": 10000
     },
     "inputWidgets": {},
     "nuid": "7375475f-254e-48a9-b514-2ec6eee70453",
     "showTitle": false,
     "title": ""
    }
   },
   "outputs": [],
   "source": [
    "# Test RDD going through forward pass with updated weights \n",
    "convolutionTest = testing_set_rdd.map(lambda e : (e[0], conv(e[0], fil, 1), e[1]))\n",
    "activationTest = convolutionTest.map(lambda e: (e[0], e[1], reLu(e[1]), e[2]))\n",
    "maxPoolingTest = activationTest.map(lambda e: (e[0], e[1], e[2], maxPool(e[2], maxPoolFilter, strideValue), e[3]))\n",
    "flattenedTest = maxPoolingTest.map(lambda e: (e[0], e[1], e[2], e[3], flatten(e[3][1]), e[4]))\n",
    "fullyConnectedTest = flattenedTest.map(lambda e:(e[0], e[1], e[2], e[3], e[4], fullyConnected(e[4], fc1WeightVector, fc1BiasVector), e[5]))\n",
    "ouputTest = fullyConnectedTest.map(lambda e: (e[0], e[1], e[2], e[3], e[4], e[5], softMax(e[5]), e[6]))\n",
    "# Final MapReduce operation to compute number of accurate predictions on test data\n",
    "accuracyRDDTest = ouputTest.map(lambda e: (int(np.argmax(e[6]) == np.argmax(e[7])), 1))\n",
    "finalTest = accuracyRDDTest.reduce(lambda e1, e2: (e1[0]+e2[0], e1[1]+e2[1]))\n",
    "\n",
    "# Accuracy computation over testing data (number of accurate prediction/total data size)\n",
    "nTest = finalTest[-1]\n",
    "nAccuracy = finalTest[0]/nTest"
   ]
  },
  {
   "cell_type": "code",
   "execution_count": 0,
   "metadata": {
    "application/vnd.databricks.v1+cell": {
     "cellMetadata": {
      "byteLimit": 2048000,
      "rowLimit": 10000
     },
     "inputWidgets": {},
     "nuid": "469d3787-ed09-47e4-bed8-fe97747189da",
     "showTitle": false,
     "title": ""
    }
   },
   "outputs": [
    {
     "output_type": "stream",
     "name": "stdout",
     "output_type": "stream",
     "text": [
      "Testing Set Accuracy: 84.11\n"
     ]
    }
   ],
   "source": [
    "# Displaying test data accuracy\n",
    "print(f\"Testing Set Accuracy: {nAccuracy*100}\")"
   ]
  }
 ],
 "metadata": {
  "application/vnd.databricks.v1+notebook": {
   "dashboards": [],
   "language": "python",
   "notebookMetadata": {
    "pythonIndentUnit": 4
   },
   "notebookName": "SetUp (1)",
   "widgets": {}
  },
  "kernelspec": {
   "display_name": "venv-3.7.7",
   "language": "python",
   "name": "venv-3.7.7"
  },
  "language_info": {
   "codemirror_mode": {
    "name": "ipython",
    "version": 3
   },
   "file_extension": ".py",
   "mimetype": "text/x-python",
   "name": "python",
   "nbconvert_exporter": "python",
   "pygments_lexer": "ipython3",
   "version": "3.7.7"
  }
 },
 "nbformat": 4,
 "nbformat_minor": 0
}
